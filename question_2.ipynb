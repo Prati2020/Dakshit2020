{
 "cells": [
  {
   "cell_type": "markdown",
   "id": "1463647b",
   "metadata": {},
   "source": [
    "# This python code,contains implementations of generating the response based on user query using OpenAI API.\n",
    "# In this code add open AI API key and execute the code."
   ]
  },
  {
   "cell_type": "code",
   "execution_count": null,
   "id": "afeaf3b6",
   "metadata": {},
   "outputs": [],
   "source": [
    "pip install pandas openpyxl openai"
   ]
  },
  {
   "cell_type": "code",
   "execution_count": null,
   "id": "fb6e40c9",
   "metadata": {},
   "outputs": [],
   "source": []
  },
  {
   "cell_type": "code",
   "execution_count": null,
   "id": "89de3f66",
   "metadata": {},
   "outputs": [],
   "source": [
    "pip install openai==0.28.0"
   ]
  },
  {
   "cell_type": "code",
   "execution_count": null,
   "id": "41477227",
   "metadata": {},
   "outputs": [],
   "source": [
    "pip install --upgrade openai"
   ]
  },
  {
   "cell_type": "code",
   "execution_count": null,
   "id": "6b8aadc9",
   "metadata": {},
   "outputs": [],
   "source": []
  },
  {
   "cell_type": "code",
   "execution_count": null,
   "id": "3997a7a6",
   "metadata": {},
   "outputs": [],
   "source": [
    "pip install openai"
   ]
  },
  {
   "cell_type": "code",
   "execution_count": null,
   "id": "aaf3ab35",
   "metadata": {},
   "outputs": [],
   "source": [
    "# import openai\n",
    "import os\n",
    "from openai import OpenAI\n",
    "import pandas as pd\n",
    "\n",
    "\n",
    "# Load Excel data\n",
    "excel_file_path = 'Data Analyst Exercise - May 2024.xlsx'\n",
    "df = pd.read_excel(excel_file_path, sheet_name='Dataset')\n",
    "\n",
    "# Function to interact with ChatGPT\n",
    "def get_chatgpt_response(prompt):\n",
    "    client = OpenAI(api_key = '<Add Your API Key here>')\n",
    "\n",
    "    response = client.chat.completions.create(\n",
    "        model='gpt-4-turbo',\n",
    "        messages=[\n",
    "        {\n",
    "            \"role\": \"user\",\n",
    "            \"content\": prompt,\n",
    "        },\n",
    "    ],\n",
    "    )\n",
    "\n",
    "    print(response.choices[0].message.content)\n",
    "    return response.choices[0].message.content\n",
    "\n",
    "# Main function to integrate user input, and ChatGPT response\n",
    "def main():\n",
    "    user_input = input(\"Enter your query: \")\n",
    "    df_string = df.to_string()\n",
    "\n",
    "    \n",
    "\n",
    "    chatgpt_prompt = f\"Based on the following data from Excel:\\n\\n{df_string}\\n\\n{user_input}\"\n",
    "\n",
    "    chatgpt_response = get_chatgpt_response(chatgpt_prompt)\n",
    "    \n",
    "    print(\"\\nChatGPT Analysis:\")\n",
    "    print(chatgpt_response)\n",
    "\n",
    "if __name__ == \"__main__\":\n",
    "    main()"
   ]
  },
  {
   "cell_type": "code",
   "execution_count": null,
   "id": "b753d855",
   "metadata": {},
   "outputs": [],
   "source": []
  }
 ],
 "metadata": {
  "kernelspec": {
   "display_name": "Python 3 (ipykernel)",
   "language": "python",
   "name": "python3"
  },
  "language_info": {
   "codemirror_mode": {
    "name": "ipython",
    "version": 3
   },
   "file_extension": ".py",
   "mimetype": "text/x-python",
   "name": "python",
   "nbconvert_exporter": "python",
   "pygments_lexer": "ipython3",
   "version": "3.9.12"
  }
 },
 "nbformat": 4,
 "nbformat_minor": 5
}
